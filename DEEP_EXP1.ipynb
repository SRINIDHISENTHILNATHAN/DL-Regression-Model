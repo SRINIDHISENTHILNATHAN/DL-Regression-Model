{
  "cells": [
    {
      "cell_type": "code",
      "execution_count": 28,
      "metadata": {
        "id": "LL2VgP9mfcHX"
      },
      "outputs": [],
      "source": [
        "import torch\n",
        "import torch.nn as nn  # Neural network module\n",
        "import numpy as np\n",
        "import matplotlib.pyplot as plt  # For plotting\n",
        "%matplotlib inline"
      ]
    },
    {
      "cell_type": "code",
      "execution_count": null,
      "metadata": {
        "id": "Z9_rfW71SzAl"
      },
      "outputs": [],
      "source": [
        "X = torch.linspace(1,70,70).reshape(-1,1)"
      ]
    },
    {
      "cell_type": "markdown",
      "source": [
        "SRINIDHI SENTHIL\n",
        "212222230148"
      ],
      "metadata": {
        "id": "g4ydSQ_ZSn1I"
      }
    },
    {
      "cell_type": "code",
      "execution_count": 30,
      "metadata": {
        "id": "3aVlgjft0Vt8"
      },
      "outputs": [],
      "source": [
        "torch.manual_seed(59) # to obtain reproducible results\n",
        "e = torch.randint(-8,9,(70,1),dtype=torch.float)"
      ]
    },
    {
      "cell_type": "code",
      "source": [
        "y = 2*X + 1 + e\n",
        "print(y.shape)"
      ],
      "metadata": {
        "colab": {
          "base_uri": "https://localhost:8080/"
        },
        "id": "gfGqrfL-RzK9",
        "outputId": "95aa4469-d432-418d-cb5a-5a98a491b223"
      },
      "execution_count": 31,
      "outputs": [
        {
          "metadata": {
            "tags": null
          },
          "name": "stdout",
          "output_type": "stream",
          "text": [
            "torch.Size([70, 1])\n"
          ]
        }
      ]
    },
    {
      "cell_type": "code",
      "source": [
        "plt.scatter(X.numpy(), y.numpy(),color='red')  # Scatter plot of data points\n",
        "plt.xlabel('x')\n",
        "plt.ylabel('y')\n",
        "plt.title('Generated Data for Linear Regression')\n",
        "plt.show()"
      ],
      "metadata": {
        "id": "HUMdndY8R02i"
      },
      "execution_count": null,
      "outputs": []
    },
    {
      "cell_type": "markdown",
      "source": [
        "SRINIDHI SENTHIL\n",
        "212222230148"
      ],
      "metadata": {
        "id": "qvA-vMj1TDs_"
      }
    },
    {
      "cell_type": "code",
      "source": [
        "torch.manual_seed(59)\n",
        "model = nn.Linear(1, 1)\n",
        "print('Weight:', model.weight.item())\n",
        "print('Bias:  ', model.bias.item())"
      ],
      "metadata": {
        "id": "LdndgeGvR4Gh"
      },
      "execution_count": null,
      "outputs": []
    },
    {
      "cell_type": "code",
      "source": [
        "loss_function = nn.MSELoss()\n",
        "optimizer = torch.optim.SGD(model.parameters(), lr=0.0001)"
      ],
      "metadata": {
        "id": "fNc6_pncR6V5"
      },
      "execution_count": null,
      "outputs": []
    },
    {
      "cell_type": "code",
      "source": [
        "epochs = 50  # Number of training iterations\n",
        "losses = []  # List to store loss values\n",
        "\n",
        "for epoch in range(1, epochs + 1):  # Start from 1 to 50\n",
        "    optimizer.zero_grad()  # Clear previous gradients\n",
        "    y_pred = model(X)  # Forward pass\n",
        "    loss = loss_function(y_pred, y)  # Compute loss\n",
        "    losses.append(loss.item())  # Store loss value\n",
        "\n",
        "    loss.backward()  # Compute gradients\n",
        "    optimizer.step()  # Update weights\n",
        "\n",
        "    # Print loss, weight, and bias for EVERY epoch (1 to 50)\n",
        "    print(f'epoch: {epoch:2}  loss: {loss.item():10.8f}  '\n",
        "          f'weight: {model.weight.item():10.8f}  '\n",
        "          f'bias: {model.bias.item():10.8f}')\n"
      ],
      "metadata": {
        "id": "aQtMq_jiR73o"
      },
      "execution_count": null,
      "outputs": []
    },
    {
      "cell_type": "code",
      "source": [
        "plt.plot(range(epochs), losses)\n",
        "plt.ylabel('Loss')\n",
        "plt.xlabel('epoch');\n",
        "plt.show()"
      ],
      "metadata": {
        "id": "lJzgHsoNR_LM"
      },
      "execution_count": null,
      "outputs": []
    },
    {
      "cell_type": "code",
      "source": [
        "# Automatically determine x-range\n",
        "x1 = torch.tensor([X.min().item(), X.max().item()])\n",
        "\n",
        "# Extract model parameters\n",
        "# Access weight and bias directly from the model\n",
        "w1, b1 = model.weight.item(), model.bias.item()\n",
        "\n",
        "# Compute y1 (predicted values)\n",
        "y1 = x1 * w1 + b1"
      ],
      "metadata": {
        "id": "EEjw7w4zSAiv"
      },
      "execution_count": null,
      "outputs": []
    },
    {
      "cell_type": "code",
      "source": [
        "# Print weight, bias, and x/y values\n",
        "print(f'Final Weight: {w1:.8f}, Final Bias: {b1:.8f}')\n",
        "print(f'X range: {x1.numpy()}')\n",
        "print(f'Predicted Y values: {y1.numpy()}')"
      ],
      "metadata": {
        "id": "B-lg0IBnSB4p"
      },
      "execution_count": null,
      "outputs": []
    },
    {
      "cell_type": "markdown",
      "source": [
        "SRINIDHI SENTHIL\n",
        "212222230148"
      ],
      "metadata": {
        "id": "HCQW5NbLTUj6"
      }
    },
    {
      "cell_type": "code",
      "source": [
        "\n",
        "# Plot original data and best-fit line\n",
        "plt.scatter(X.numpy(), y.numpy(), label=\"Original Data\")\n",
        "plt.plot(x1.numpy(), y1.numpy(), 'r', label=\"Best-Fit Line\")\n",
        "plt.xlabel('x')\n",
        "plt.ylabel('y')\n",
        "plt.title('Trained Model: Best-Fit Line')\n",
        "plt.legend()\n",
        "plt.show()"
      ],
      "metadata": {
        "id": "6xns0rULSEzS"
      },
      "execution_count": null,
      "outputs": []
    },
    {
      "cell_type": "code",
      "source": [
        "from google.colab import drive\n",
        "drive.mount('/content/drive')"
      ],
      "metadata": {
        "id": "0gVMHaXxSXx_"
      },
      "execution_count": null,
      "outputs": []
    },
    {
      "cell_type": "code",
      "execution_count": 32,
      "metadata": {
        "id": "1ibRmcpgS2Qo"
      },
      "outputs": [],
      "source": [
        "torch.save(model.state_dict(),'SRINIDHI SENTHIL.pt')"
      ]
    },
    {
      "cell_type": "code",
      "source": [],
      "metadata": {
        "id": "1HOtyA51UrQW"
      },
      "execution_count": null,
      "outputs": []
    }
  ],
  "metadata": {
    "colab": {
      "provenance": []
    },
    "kernelspec": {
      "display_name": "Python 3",
      "name": "python3"
    },
    "language_info": {
      "name": "python"
    }
  },
  "nbformat": 4,
  "nbformat_minor": 0
}